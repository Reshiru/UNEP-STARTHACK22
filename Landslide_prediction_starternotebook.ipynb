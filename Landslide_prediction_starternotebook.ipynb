{
 "cells": [
  {
   "cell_type": "markdown",
   "metadata": {
    "id": "DqgLGfMXMQXy"
   },
   "source": [
    "<h2><center> Welcome to the Landslide Prediction Challenge</h2></center>\n",
    "\n",
    "A landslide is the movement of a mass of rock, debris, or earth(soil) down a slope. As a common natural hazard, it can lead to significant losses of human lives and properties.\n",
    "\n",
    "\n",
    "Hong Kong, one of the hilly and densely populated cities in the world, is frequently affected by extreme rainstorms, making it highly susceptible to rain-induced natural terrain landslides\n",
    "\n",
    "<img src = \"https://drive.google.com/uc?export=view&id=1-8sSI75AG3HM89nDJEwo6_KJbAEUXS-r\">\n",
    "\n",
    "The common practice of identifying landslides is visual interpretation which, however, is labor-intensive and time-consuming.\n",
    "\n",
    "***Thus, this hack will focus on automating the landslide identification process using artificial intelligence techniques***\n",
    "\n",
    "This will be achieved by using high-resolution terrain information to perform the terrain-based landslide identification. Other auxiliary data such as the lithology of the surface materials and rainfall intensification factor are also provided.\n"
   ]
  },
  {
   "cell_type": "markdown",
   "metadata": {
    "id": "dtRUPR6qPKMz"
   },
   "source": [
    "Table of contents:\n",
    "\n",
    "1. [Import relevant libraries](#Libraries)\n",
    "2. [Load files](#Load)\n",
    "3. [Preview files](#Preview)\n",
    "4. [Data dictionary](#Dictionary)\n",
    "5. [Data exploration](#Exploration)\n",
    "6. [Target distribution](#Target)\n",
    "7. [Outliers](#Outliers)\n",
    "8. [Correlations](#Correlations)\n",
    "9. [Model training](#Model)\n",
    "10. [Test set predictions](#Predictions)\n",
    "11. [Creating a submission file](#Submission)\n",
    "12. [Tips to improve model performance](#Tips)"
   ]
  },
  {
   "cell_type": "markdown",
   "metadata": {
    "id": "Sl-lBcUwJZX2"
   },
   "source": [
    "<a name = \"Libraries\"></a>\n",
    "## 1. Import relevant libraries"
   ]
  },
  {
   "cell_type": "code",
   "execution_count": null,
   "metadata": {
    "id": "AGkN_YDYrXeS"
   },
   "outputs": [],
   "source": [
    "# Import libraries\n",
    "import pandas as pd\n",
    "import numpy as np\n",
    "import matplotlib.pyplot as plt\n",
    "import seaborn as sns\n",
    "from sklearn.metrics import f1_score, classification_report,confusion_matrix, ConfusionMatrixDisplay\n",
    "from sklearn.model_selection import train_test_split\n",
    "from sklearn.ensemble import RandomForestClassifier\n",
    "pd.set_option('display.max_columns', None)\n",
    "import warnings\n",
    "warnings.filterwarnings('ignore')"
   ]
  },
  {
   "cell_type": "markdown",
   "metadata": {
    "id": "31jrsc4hJdw1"
   },
   "source": [
    "<a name = \"Load\"></a>\n",
    "## 2. Load files"
   ]
  },
  {
   "cell_type": "code",
   "execution_count": null,
   "metadata": {
    "id": "pK406xHWrk3r"
   },
   "outputs": [],
   "source": [
    "# Read files to pandas dataframes\n",
    "train = pd.read_csv('Dataset/Train.csv')\n",
    "test = pd.read_csv('Dataset/Test.csv')\n",
    "sample_submission = pd.read_csv('Dataset/Sample submission.csv')"
   ]
  },
  {
   "cell_type": "markdown",
   "metadata": {
    "id": "yv67GA1KJgiA"
   },
   "source": [
    "<a name = \"Preview\"></a>\n",
    "## 3. Preview files"
   ]
  },
  {
   "cell_type": "code",
   "execution_count": null,
   "metadata": {
    "colab": {
     "base_uri": "https://localhost:8080/",
     "height": 270
    },
    "id": "4w9rZSXdrk0o",
    "outputId": "e1825527-249b-4501-a438-ec6d756c2f1a"
   },
   "outputs": [],
   "source": [
    "# Check the first five rows of the train set\n",
    "train.head()"
   ]
  },
  {
   "cell_type": "code",
   "execution_count": null,
   "metadata": {
    "colab": {
     "base_uri": "https://localhost:8080/",
     "height": 270
    },
    "id": "25pTbez9rkxx",
    "outputId": "cf8b8045-44b4-4ac4-ce3e-b47e59732019"
   },
   "outputs": [],
   "source": [
    "# Check the first five rows of the test set\n",
    "test.head()"
   ]
  },
  {
   "cell_type": "code",
   "execution_count": null,
   "metadata": {
    "colab": {
     "base_uri": "https://localhost:8080/",
     "height": 206
    },
    "id": "Q8IMnGZZiFFU",
    "outputId": "9b4e111c-3d32-4da0-b088-4521696aa2d0"
   },
   "outputs": [],
   "source": [
    "# Check how the submission file should look like\n",
    "sample_submission.head()"
   ]
  },
  {
   "cell_type": "markdown",
   "metadata": {
    "id": "_1pwPYU3Hs20"
   },
   "source": [
    "<a name = \"Dictionary\"></a>\n",
    "## 4. Data Dictionary\n",
    "<figure>\n",
    "<img src = \"https://drive.google.com/uc?export=view&id=1T_XBSH6ozmhGiDz_nL4bQvvonHUpbCfW\" height = \"200\">\n",
    "<img src = \"https://drive.google.com/uc?export=view&id=13nSrrIowiFPjAgiR--Nd4cHLVwvXFaFj\" height = \"400\">"
   ]
  },
  {
   "cell_type": "code",
   "execution_count": null,
   "metadata": {
    "colab": {
     "base_uri": "https://localhost:8080/"
    },
    "id": "lRxHcvQYrkvP",
    "outputId": "ab8c2732-95a9-4734-e9f7-20c96b440515"
   },
   "outputs": [],
   "source": [
    "# Check shape and size of train and test set\n",
    "train.shape, test.shape, sample_submission.shape"
   ]
  },
  {
   "cell_type": "markdown",
   "metadata": {
    "id": "gvAD-Ch3JSdc"
   },
   "source": [
    "<a name = \"Exploration\"></a>\n",
    "## 5. Data exploration"
   ]
  },
  {
   "cell_type": "code",
   "execution_count": null,
   "metadata": {
    "colab": {
     "base_uri": "https://localhost:8080/",
     "height": 364
    },
    "id": "or6pAQugrksw",
    "outputId": "ceebb47b-2e33-421c-b2e9-2b063a7a2f6a"
   },
   "outputs": [],
   "source": [
    "# Check statistical summaries of the train set\n",
    "train.describe()"
   ]
  },
  {
   "cell_type": "markdown",
   "metadata": {
    "id": "PNAalb-_1LUc"
   },
   "source": [
    " - There is a very high correlation between features extracted from the same location"
   ]
  },
  {
   "cell_type": "code",
   "execution_count": null,
   "metadata": {
    "colab": {
     "base_uri": "https://localhost:8080/",
     "height": 921
    },
    "id": "Xq-DHCxN1V4h",
    "outputId": "c4e86bc9-e8d7-4509-e2b2-a42bc556d8cb"
   },
   "outputs": [],
   "source": [
    "# Elevation correlations\n",
    "plt.figure(figsize = (20, 12))\n",
    "sample_elevations = ['1_elevation',\t'2_elevation',\t'3_elevation',\t'4_elevation',\t'5_elevation']\n",
    "sns.pairplot(train[sample_elevations], kind=\"scatter\", plot_kws=dict(s=80, edgecolor=\"white\", linewidth=2.5))\n",
    "plt.show()"
   ]
  },
  {
   "cell_type": "code",
   "execution_count": null,
   "metadata": {
    "colab": {
     "base_uri": "https://localhost:8080/",
     "height": 433
    },
    "id": "K8omCIZ7rkqA",
    "outputId": "ae00c3c1-4107-4711-d624-63e6db5286a9"
   },
   "outputs": [],
   "source": [
    "# Check statistical summaries of the test set\n",
    "test.describe()"
   ]
  },
  {
   "cell_type": "code",
   "execution_count": null,
   "metadata": {
    "colab": {
     "base_uri": "https://localhost:8080/"
    },
    "id": "UIr3bZ2esc8S",
    "outputId": "531d2ac2-2b9b-4d23-9147-5c19a9e0b15a"
   },
   "outputs": [],
   "source": [
    "# Check for any missing values\n",
    "train.isnull().sum().any(), test.isnull().sum().any()"
   ]
  },
  {
   "cell_type": "code",
   "execution_count": null,
   "metadata": {
    "colab": {
     "base_uri": "https://localhost:8080/"
    },
    "id": "BUVBIDlEsc5j",
    "outputId": "6ceae8f8-d1c7-49b0-966c-8f8c3b144f80"
   },
   "outputs": [],
   "source": [
    "# Check for duplicates\n",
    "train.duplicated().any(), test.duplicated().any()"
   ]
  },
  {
   "cell_type": "markdown",
   "metadata": {
    "id": "Aq3Ayzs6JKCM"
   },
   "source": [
    "<a name = \"Target\"></a>\n",
    "## 6. Target variable distribution"
   ]
  },
  {
   "cell_type": "code",
   "execution_count": null,
   "metadata": {
    "colab": {
     "base_uri": "https://localhost:8080/"
    },
    "id": "ud4fMH9isc24",
    "outputId": "378f3082-91fb-47bd-8fe7-7a77a4723326"
   },
   "outputs": [],
   "source": [
    "# Check distribution of the target variabe\n",
    "train.Label.value_counts(normalize = True)"
   ]
  },
  {
   "cell_type": "code",
   "execution_count": null,
   "metadata": {
    "colab": {
     "base_uri": "https://localhost:8080/",
     "height": 404
    },
    "id": "Q-kydrKeubcH",
    "outputId": "6b52984e-f6ef-447a-dbf7-c1d280082db1"
   },
   "outputs": [],
   "source": [
    "sns.set_style('darkgrid')\n",
    "plt.figure(figsize=(7, 6))\n",
    "sns.countplot(x= train.Label)\n",
    "plt.title('Target Variable Distribution')\n",
    "plt.show()"
   ]
  },
  {
   "cell_type": "markdown",
   "metadata": {
    "id": "q_ZYM-6MrA64"
   },
   "source": [
    "The dataset is highly imbalanced with the majority class having 75% and the minority class 25%\n",
    "\n",
    "Some techiques in handling class imbalance include;\n",
    " 1. Using SMOTE to create synthetic data to reduce imbalanceness\n",
    " 2. Undersampling the majority class\n",
    " 3. Oversampling the minority class\n",
    " 4. Giving more weight to minority class during modelling"
   ]
  },
  {
   "cell_type": "markdown",
   "metadata": {
    "id": "HdANOHp0zg5Y"
   },
   "source": [
    "<a name = \"Outliers\"></a>\n",
    "## 7. Outliers"
   ]
  },
  {
   "cell_type": "code",
   "execution_count": null,
   "metadata": {
    "colab": {
     "base_uri": "https://localhost:8080/"
    },
    "id": "rvgAIG7Xkinh",
    "outputId": "8074ad08-41bc-45ea-d836-65b3da1f7425"
   },
   "outputs": [],
   "source": [
    "# Exploring some features for cell 1\n",
    "explore_cols =  ['1_elevation', '1_aspect', '1_slope', '1_placurv', '1_procurv', '1_lsfactor', '1_twi', '1_geology']\n",
    "explore_cols"
   ]
  },
  {
   "cell_type": "code",
   "execution_count": null,
   "metadata": {
    "colab": {
     "base_uri": "https://localhost:8080/",
     "height": 642
    },
    "id": "m-KQm8cLjEV_",
    "outputId": "f324e5cb-331c-42a8-c8b2-17bb84b653d4"
   },
   "outputs": [],
   "source": [
    "# Plotting boxplots for each of the numerical columns\n",
    "fig, axes = plt.subplots(nrows = 2, ncols = 3, figsize = (20, 10))\n",
    "fig.suptitle('Box plots showing outliers', y= 0.93, fontsize = 15)\n",
    "\n",
    "for ax, data, name in zip(axes.flatten(), train, explore_cols):\n",
    "  sns.boxplot(train[name], ax = ax)"
   ]
  },
  {
   "cell_type": "markdown",
   "metadata": {
    "id": "MPZ3gzR7o6q8"
   },
   "source": [
    " Elevation, IsFactor, Placurv, curve and slope have some outliers.\n",
    " The aspect feature has no outliers.\n",
    " \n",
    " Some of the techniques you can use to handle outliers include:\n",
    "  1. Log transformations, scaling, box-cox transformations...\n",
    "  2. Dropping the outliers\n",
    "  3. Replacing the outliers with mean, median, mode or any other aggregates"
   ]
  },
  {
   "cell_type": "markdown",
   "metadata": {
    "id": "Gw9ZEYplznFA"
   },
   "source": [
    "<a name = \"Correlations\"></a>\n",
    "## 8. Correlations"
   ]
  },
  {
   "cell_type": "code",
   "execution_count": null,
   "metadata": {},
   "outputs": [],
   "source": [
    "explore_cols"
   ]
  },
  {
   "cell_type": "code",
   "execution_count": null,
   "metadata": {},
   "outputs": [],
   "source": [
    "# Type of correlations \n",
    "plt.figure(figsize = (20, 12))\n",
    "print(len(train[train['Label']==0][explore_cols]), len(train[train['Label']==1][explore_cols]), len(train))\n",
    "sns.pairplot(train[explore_cols+['Label']], kind=\"scatter\", plot_kws=dict(s=1, edgecolor=\"green\"), hue = 'Label')\n",
    "plt.show()"
   ]
  },
  {
   "cell_type": "code",
   "execution_count": null,
   "metadata": {
    "colab": {
     "base_uri": "https://localhost:8080/",
     "height": 1000
    },
    "id": "65rt63dqlFsU",
    "outputId": "c0c3d61d-296c-482c-838d-d79280e1ff56"
   },
   "outputs": [],
   "source": [
    "# Type of correlations \n",
    "plt.figure(figsize = (20, 12))\n",
    "sns.pairplot(train[explore_cols], kind=\"scatter\", plot_kws=dict(s=80, edgecolor=\"white\", linewidth=2.5))\n",
    "plt.show()"
   ]
  },
  {
   "cell_type": "markdown",
   "metadata": {
    "id": "jW5D5TzRohgh"
   },
   "source": [
    "- There is no correlation for most of the features, how can you capture this information for modelling...\n",
    "- Which information can you derive from this correlations"
   ]
  },
  {
   "cell_type": "code",
   "execution_count": null,
   "metadata": {
    "colab": {
     "base_uri": "https://localhost:8080/",
     "height": 502
    },
    "id": "EYxXJhb_lFqF",
    "outputId": "30b11343-b030-49c8-c66a-82e13ea53a30"
   },
   "outputs": [],
   "source": [
    "# Quantify correlations\n",
    "corr = train[explore_cols].corr()\n",
    "plt.figure(figsize = (13, 8))\n",
    "sns.heatmap(corr, cmap='RdYlGn', annot = True, center = 0)\n",
    "plt.title('Correlogram', fontsize = 15, color = 'darkgreen')\n",
    "plt.show()"
   ]
  },
  {
   "cell_type": "markdown",
   "metadata": {
    "id": "G6UtDqJAn4X2"
   },
   "source": [
    " - There is a strong positive correlation of approximately 0.8 between slope and IsFactor\n",
    " - There is some negative correlation between IsFactor and placurv\n",
    " - The IsFactor variable is correlated most of the other features, why is this?"
   ]
  },
  {
   "cell_type": "markdown",
   "metadata": {
    "id": "GbN3sDZxJHVb"
   },
   "source": [
    "<a name = \"Model\"></a>\n",
    "## 9. Model training"
   ]
  },
  {
   "cell_type": "code",
   "execution_count": null,
   "metadata": {
    "colab": {
     "base_uri": "https://localhost:8080/"
    },
    "id": "GewJbaCNscz_",
    "outputId": "9d016620-3a8e-4eab-9c08-2814f539fbcb"
   },
   "outputs": [],
   "source": [
    "# Select main columns to be used in training\n",
    "main_cols = train.columns.difference(['Sample_ID', 'Label'])\n",
    "X = train[main_cols]\n",
    "y = train.Label\n",
    "\n",
    "# Split data into train and test sets\n",
    "X_train, X_test, y_train, y_test = train_test_split(X,y,test_size=0.3, random_state=2022)\n",
    "\n",
    "# Train model\n",
    "model = RandomForestClassifier(random_state = 2022)\n",
    "model.fit(X_train, y_train)\n",
    "\n",
    "# Make predictions\n",
    "y_pred = model.predict(X_test)\n",
    "\n",
    "# Check the auc score of the model\n",
    "print(f'RandomForest F1 score on the X_test is: {f1_score(y_test, y_pred)}\\n')\n",
    "\n",
    "# print classification report\n",
    "print(classification_report(y_test, y_pred))"
   ]
  },
  {
   "cell_type": "code",
   "execution_count": null,
   "metadata": {
    "colab": {
     "base_uri": "https://localhost:8080/",
     "height": 442
    },
    "id": "nEBHvuifsNW1",
    "outputId": "e6a2c4d7-971a-49e5-c069-57d104e0661e"
   },
   "outputs": [],
   "source": [
    "# Confusion matrix\n",
    "cm = confusion_matrix(y_test, y_pred, labels=model.classes_)\n",
    "disp = ConfusionMatrixDisplay(confusion_matrix=cm, display_labels=model.classes_)\n",
    "fig, ax = plt.subplots(figsize=(15,7))\n",
    "disp.plot(ax=ax)\n",
    "plt.show()"
   ]
  },
  {
   "cell_type": "markdown",
   "metadata": {
    "id": "AxD7bOX6weMQ"
   },
   "source": [
    " - True positives - 442\n",
    " - True negatives - 2287\n",
    " - False positives - 128\n",
    " - False negatives - 403\n",
    "\n",
    " Precision  = TP / (TP + FP) = 442 / (442 + 128) = 0.775438596491228\n",
    "\n",
    " Recall = TP / (TP + FN) = 442 / (442 + 403) = 0.5230769230769231\n",
    "\n",
    " F1 score = harmonic mean between Precision and Recall\n",
    "\n",
    " F1 score = (2 * Precision * Recall) / (Precision + Recall)\n",
    "\n",
    " F1 score = (2 * 0.775438596491228 * 0.5230769230769231) / (0.775438596491228 + 0.5230769230769231) = 0.6247349823321554"
   ]
  },
  {
   "cell_type": "code",
   "execution_count": null,
   "metadata": {
    "colab": {
     "base_uri": "https://localhost:8080/",
     "height": 626
    },
    "id": "_VLRzyCytDBr",
    "outputId": "f45cad6a-83a2-446e-94a5-220a733eba9e"
   },
   "outputs": [],
   "source": [
    "# Feature importance\n",
    "impo_df = pd.DataFrame({'feature': X.columns, 'importance': model.feature_importances_}).set_index('feature').sort_values(by = 'importance', ascending = False)\n",
    "impo_df = impo_df[:10].sort_values(by = 'importance', ascending = True)\n",
    "impo_df.plot(kind = 'barh', figsize = (10, 10))\n",
    "plt.legend(loc = 'center right')\n",
    "plt.title('Bar chart showing top ten features', fontsize = 14)\n",
    "plt.xlabel('Features', fontsize = 12, color = 'indigo')\n",
    "plt.show()"
   ]
  },
  {
   "cell_type": "markdown",
   "metadata": {
    "id": "4R_WA5C5D-2U"
   },
   "source": [
    "<a name = \"Predictions\"></a>\n",
    "## 10. Test set predictions"
   ]
  },
  {
   "cell_type": "code",
   "execution_count": null,
   "metadata": {
    "colab": {
     "base_uri": "https://localhost:8080/",
     "height": 295
    },
    "id": "wIUx265DD_ZR",
    "outputId": "b55ba760-2441-4cb4-d84d-3ae3d6afb11c"
   },
   "outputs": [],
   "source": [
    "# Make prediction on the test set\n",
    "test_df = test[main_cols]\n",
    "predictions = model.predict(test_df)\n",
    "\n",
    "# Create a submission file\n",
    "sub_file = pd.DataFrame({'Sample_ID': test.Sample_ID, 'Label': predictions})\n",
    "\n",
    "# Check the distribution of your predictions\n",
    "sns.countplot(x = sub_file.Label)\n",
    "plt.title('Predicted Variable Distribution');"
   ]
  },
  {
   "cell_type": "markdown",
   "metadata": {
    "id": "gQK6hJQHJD5a"
   },
   "source": [
    "<a name = \"Submission\"></a>\n",
    "## 11. Creating a submission file"
   ]
  },
  {
   "cell_type": "code",
   "execution_count": null,
   "metadata": {
    "colab": {
     "base_uri": "https://localhost:8080/",
     "height": 206
    },
    "id": "VGaH2ZZLrknb",
    "outputId": "f0fb181b-9d5e-467a-a029-1d241a99bbe4"
   },
   "outputs": [],
   "source": [
    "# Create a csv file and upload to zindi \n",
    "sub_file.to_csv('Baseline.csv', index = False)\n",
    "sub_file.head()"
   ]
  },
  {
   "cell_type": "markdown",
   "metadata": {
    "id": "2Md0cnDIJwiy"
   },
   "source": [
    "<a name = \"Tips\"></a>\n",
    "## 12. Tips to improve model performance\n",
    " - Use cross-validation techniques\n",
    " - Feature engineering\n",
    " - Handle the class imbalance of the target variable\n",
    " - Try different modelling techniques - Stacking classifier, Voting classifiers, ensembling...\n",
    " - Data transformations\n",
    " - Feature Selection techniques such as RFE, Tree-based feature importance...\n",
    " - Domain Knowledge, do research on how the provided features affect landslides, soil topology..."
   ]
  },
  {
   "cell_type": "markdown",
   "metadata": {
    "id": "3io5PEySK5x0"
   },
   "source": [
    "#                       ::GOOD LUCK AND HAPPY HACKING 😊\n",
    "\n",
    "\n"
   ]
  }
 ],
 "metadata": {
  "colab": {
   "collapsed_sections": [],
   "name": "Landslide_prediction_starternotebook.ipynb",
   "provenance": []
  },
  "kernelspec": {
   "display_name": "Python 3",
   "language": "python",
   "name": "python3"
  },
  "language_info": {
   "codemirror_mode": {
    "name": "ipython",
    "version": 3
   },
   "file_extension": ".py",
   "mimetype": "text/x-python",
   "name": "python",
   "nbconvert_exporter": "python",
   "pygments_lexer": "ipython3",
   "version": "3.8.8"
  }
 },
 "nbformat": 4,
 "nbformat_minor": 4
}
