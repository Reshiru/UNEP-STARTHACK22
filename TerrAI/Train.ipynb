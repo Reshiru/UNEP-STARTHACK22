{
 "cells": [
  {
   "cell_type": "code",
   "execution_count": null,
   "id": "237a91c6-28ab-4302-871f-6b53e0a86472",
   "metadata": {},
   "outputs": [],
   "source": [
    "import numpy as np\n",
    "import pandas as pd\n",
    "import os \n",
    "\n",
    "import tensorflow as tf\n",
    "from sklearn.model_selection import train_test_split\n",
    "\n",
    "from DeepModel import DeepModel\n",
    "from Scaling import Scaling\n",
    "\n",
    "%matplotlib inline\n",
    "import matplotlib.pyplot as plt\n",
    "import seaborn as sns\n",
    "\n",
    "from sklearn.utils import shuffle\n",
    "\n",
    "#tensorboard --logdir=logs/\n",
    "#!{sys.executable} -m pip install tensorflow-addons "
   ]
  },
  {
   "cell_type": "code",
   "execution_count": null,
   "id": "2cf78f70-41e2-4345-adb5-975f1198be1d",
   "metadata": {},
   "outputs": [],
   "source": [
    "model_folder = '../model'\n",
    "\n",
    "checkpoint_path = model_folder + \"/TerrAI.ckpt\""
   ]
  },
  {
   "cell_type": "code",
   "execution_count": null,
   "id": "f3e18d3d-944a-4a16-aa75-dce037e89f8f",
   "metadata": {},
   "outputs": [],
   "source": [
    "if not os.path.exists(model_folder):\n",
    "    os.mkdir(model_folder)"
   ]
  },
  {
   "cell_type": "code",
   "execution_count": null,
   "id": "b414d7cc-fc2d-46a2-b93c-4d2023d98341",
   "metadata": {},
   "outputs": [],
   "source": [
    "scaler = Scaling()"
   ]
  },
  {
   "cell_type": "markdown",
   "id": "585fb6c3-c121-4e1a-9649-176a93c47691",
   "metadata": {},
   "source": [
    "## Ensure available GPU utilized correctly"
   ]
  },
  {
   "cell_type": "code",
   "execution_count": null,
   "id": "9bd31b3d-620c-4702-b695-522f5d666db3",
   "metadata": {},
   "outputs": [],
   "source": [
    "physical_devices = tf.config.list_physical_devices(\"GPU\")\n",
    "\n",
    "if len(physical_devices) > 0:\n",
    "    tf.config.experimental.set_memory_growth(physical_devices[0], True)"
   ]
  },
  {
   "cell_type": "markdown",
   "id": "038072d9-01df-460a-a2cd-f77da394044b",
   "metadata": {},
   "source": [
    "## Load training data"
   ]
  },
  {
   "cell_type": "code",
   "execution_count": null,
   "id": "c4e54d26-356f-44f7-be2f-1d5150ea0eb2",
   "metadata": {},
   "outputs": [],
   "source": [
    "data = pd.read_csv('../Dataset/Train.csv').dropna()\n",
    "data.shape"
   ]
  },
  {
   "cell_type": "code",
   "execution_count": null,
   "id": "55db75dd-9d8a-451c-b3f8-784458f035f9",
   "metadata": {},
   "outputs": [],
   "source": [
    "# Select main columns to be used in training\n",
    "X = scaler.reshape_and_scale_X(data)\n",
    "y = np.expand_dims(data.Label.to_numpy(dtype=np.float64), axis=1)\n",
    "\n",
    "X_train, X_test, y_train, y_test = train_test_split(X, y, test_size=0.2, random_state=2022)"
   ]
  },
  {
   "cell_type": "code",
   "execution_count": null,
   "id": "4dbdbb38-01f2-43ed-b369-8faece73bd3a",
   "metadata": {},
   "outputs": [],
   "source": [
    "X.shape, y.shape"
   ]
  },
  {
   "cell_type": "code",
   "execution_count": null,
   "id": "b99a9453-c7da-46cb-899c-b2fea32a7556",
   "metadata": {},
   "outputs": [],
   "source": [
    "input_size = X_train.shape[1:]\n",
    "input_size"
   ]
  },
  {
   "cell_type": "markdown",
   "id": "1155865f-73b8-47d7-9149-a5bd82d06468",
   "metadata": {},
   "source": [
    "## Calculate the output class distribution percentage\n",
    "Used in order to ensure class weight adjusted properly"
   ]
  },
  {
   "cell_type": "code",
   "execution_count": null,
   "id": "4da55079-ebe6-4f61-bdc7-4ac886064f22",
   "metadata": {},
   "outputs": [],
   "source": [
    "zero_state_count = len(y[y == 0])\n",
    "total_label_count = len(y)\n",
    "zero_state_count, total_label_count"
   ]
  },
  {
   "cell_type": "code",
   "execution_count": null,
   "id": "48c451c6-40b9-4664-98d2-d4514189292e",
   "metadata": {},
   "outputs": [],
   "source": [
    "zero_weight = 1\n",
    "one_weight = 1 / total_label_count * zero_state_count + 1\n",
    "\n",
    "class_weight = {0: zero_weight, 1: one_weight}\n",
    "class_weight"
   ]
  },
  {
   "cell_type": "markdown",
   "id": "f3ecb177-36fc-444e-9532-7e0de3bd9a9c",
   "metadata": {},
   "source": [
    "## Dataset generator"
   ]
  },
  {
   "cell_type": "code",
   "execution_count": null,
   "id": "38e705b2-300f-4913-b2d1-04eb2f755326",
   "metadata": {},
   "outputs": [],
   "source": [
    "batch_size = 512"
   ]
  },
  {
   "cell_type": "code",
   "execution_count": null,
   "id": "7d2bb6e2-c251-4a36-bb4d-8fff31e2a733",
   "metadata": {},
   "outputs": [],
   "source": [
    "def fire(X, y, batch_size=64):\n",
    "    return_index = 0\n",
    "    max_index = len(y) // batch_size\n",
    "    X, y = shuffle(X, y)\n",
    "    \n",
    "    for i in range(1, max_index):\n",
    "        yield X[batch_size * (i-1):batch_size * i], y[batch_size * (i-1):batch_size * i]"
   ]
  },
  {
   "cell_type": "code",
   "execution_count": null,
   "id": "6cbe0f3f-1c23-4903-bbfe-b18914a40cad",
   "metadata": {},
   "outputs": [],
   "source": [
    "train_dataset = tf.data.Dataset.from_generator(\n",
    "    generator=lambda: fire(X=X_train, y=y_train, batch_size=batch_size),\n",
    "    output_types=(tf.float64, tf.float64),\n",
    "    output_shapes=([None] + list(input_size), [None, 1]))\n",
    "\n",
    "test_dataset = tf.data.Dataset.from_generator(\n",
    "    generator=lambda: fire(X=X_test, y=y_test, batch_size=batch_size),\n",
    "    output_types=(tf.float64, tf.float64),\n",
    "    output_shapes=([None] + list(input_size), [None, 1]))"
   ]
  },
  {
   "cell_type": "code",
   "execution_count": null,
   "id": "5afa37ae-fbc7-4337-b8d0-bd1d081be22b",
   "metadata": {},
   "outputs": [],
   "source": [
    "fire_iter = iter(fire(X=X_test, y=y_test))\n",
    "a, b = next(fire_iter)\n",
    "a.shape, b.shape"
   ]
  },
  {
   "cell_type": "code",
   "execution_count": null,
   "id": "4e486478-b923-43bb-b919-8ba32fc68595",
   "metadata": {},
   "outputs": [],
   "source": [
    "model = DeepModel(checkpoint_path, 1, input_size)"
   ]
  },
  {
   "cell_type": "code",
   "execution_count": null,
   "id": "cb6a225a-551a-4e3e-b0b7-17ac94921875",
   "metadata": {},
   "outputs": [],
   "source": [
    "model.train(train_dataset, test_dataset, class_weight=class_weight, epochs=250, batch_size=batch_size)"
   ]
  },
  {
   "cell_type": "code",
   "execution_count": null,
   "id": "c1d2cd0a-caa0-452e-8e97-ca9ff3f18423",
   "metadata": {},
   "outputs": [],
   "source": []
  }
 ],
 "metadata": {
  "kernelspec": {
   "display_name": "Python 3",
   "language": "python",
   "name": "python3"
  },
  "language_info": {
   "codemirror_mode": {
    "name": "ipython",
    "version": 3
   },
   "file_extension": ".py",
   "mimetype": "text/x-python",
   "name": "python",
   "nbconvert_exporter": "python",
   "pygments_lexer": "ipython3",
   "version": "3.8.8"
  }
 },
 "nbformat": 4,
 "nbformat_minor": 5
}
