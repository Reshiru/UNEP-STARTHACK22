{
 "cells": [
  {
   "cell_type": "code",
   "execution_count": null,
   "id": "d38aba7c-ff94-4c5c-89f1-4b7901534125",
   "metadata": {},
   "outputs": [],
   "source": [
    "import numpy as np\n",
    "import pandas as pd"
   ]
  },
  {
   "cell_type": "code",
   "execution_count": null,
   "id": "856c3c66-76a1-4252-ae9b-3979cb598b3e",
   "metadata": {},
   "outputs": [],
   "source": [
    "train = pd.read_csv('../Dataset/Train.csv').dropna()\n",
    "test = pd.read_csv('../Dataset/Test.csv').dropna()\n",
    "train.shape, test.shape"
   ]
  },
  {
   "cell_type": "code",
   "execution_count": null,
   "id": "30e5ea44-0f74-4f4e-bc47-d7bf74796a40",
   "metadata": {},
   "outputs": [],
   "source": [
    "diff = ['Sample_ID', 'Label']\n",
    "train_main = train[train.columns.difference(diff)]\n",
    "test_main = test[test.columns.difference(diff)]\n",
    "train_main.shape, test_main.shape"
   ]
  },
  {
   "cell_type": "code",
   "execution_count": null,
   "id": "23179ffb-a8d9-49db-8450-6b1e1eb5f86b",
   "metadata": {},
   "outputs": [],
   "source": [
    "data = pd.concat([train_main, test_main])\n",
    "data.columns = data.columns.str.replace(r'\\d+_', '', regex=True)\n",
    "print(data.shape)\n",
    "data.head()"
   ]
  },
  {
   "cell_type": "code",
   "execution_count": null,
   "id": "8a68f360-5bef-4298-9ba5-0abeaaae0b42",
   "metadata": {},
   "outputs": [],
   "source": [
    "unique_columns = set(data.columns.values.tolist())\n",
    "flattend_data = pd.DataFrame(np.array([data[column].to_numpy().flatten() for column in unique_columns]).transpose(), columns=unique_columns)\n",
    "flattend_data.head()"
   ]
  },
  {
   "cell_type": "code",
   "execution_count": null,
   "id": "cfb413a9-1fc7-4174-9b7c-c8d56fad90d2",
   "metadata": {},
   "outputs": [],
   "source": [
    "data_max = flattend_data.max()\n",
    "data_min = flattend_data.min()\n",
    "\n",
    "scales = pd.DataFrame(columns=data_max.index)\n",
    "scales = scales.append(data_max,ignore_index=True)\n",
    "\n",
    "scales = scales.append(data_min,ignore_index=True)\n",
    "\n",
    "pd.set_option('display.max_columns', None)\n",
    "scales"
   ]
  },
  {
   "cell_type": "code",
   "execution_count": null,
   "id": "88e887d3-e032-49ea-9449-60a49d653b85",
   "metadata": {},
   "outputs": [],
   "source": []
  }
 ],
 "metadata": {
  "kernelspec": {
   "display_name": "Python 3",
   "language": "python",
   "name": "python3"
  },
  "language_info": {
   "codemirror_mode": {
    "name": "ipython",
    "version": 3
   },
   "file_extension": ".py",
   "mimetype": "text/x-python",
   "name": "python",
   "nbconvert_exporter": "python",
   "pygments_lexer": "ipython3",
   "version": "3.8.8"
  }
 },
 "nbformat": 4,
 "nbformat_minor": 5
}
