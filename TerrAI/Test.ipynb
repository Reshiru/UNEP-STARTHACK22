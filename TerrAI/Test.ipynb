{
 "cells": [
  {
   "cell_type": "code",
   "execution_count": null,
   "id": "1d7433b5-a532-4001-8174-ad316a456f06",
   "metadata": {},
   "outputs": [],
   "source": [
    "import numpy as np\n",
    "import pandas as pd\n",
    "import os \n",
    "\n",
    "import tensorflow as tf\n",
    "from sklearn.model_selection import train_test_split\n",
    "\n",
    "from DeepModel import DeepModel\n",
    "from Scaling import Scaling\n",
    "\n",
    "%matplotlib inline\n",
    "import matplotlib.pyplot as plt\n",
    "import seaborn as sns\n",
    "#tensorboard --logdir=logs/"
   ]
  },
  {
   "cell_type": "code",
   "execution_count": null,
   "id": "397454b1-e65b-4bd1-a9f0-3595cdbc0701",
   "metadata": {},
   "outputs": [],
   "source": [
    "model_folder = '../model'\n",
    "\n",
    "checkpoint_path = model_folder + \"/TerrAI.ckpt\""
   ]
  },
  {
   "cell_type": "code",
   "execution_count": null,
   "id": "7f9f523e-985a-41b2-9422-9011ed1e9908",
   "metadata": {},
   "outputs": [],
   "source": [
    "scaler = Scaling()"
   ]
  },
  {
   "cell_type": "code",
   "execution_count": null,
   "id": "58d38fe8-11c3-4885-8133-e74f650530f0",
   "metadata": {},
   "outputs": [],
   "source": [
    "model = DeepModel(checkpoint_path, 1, (225,))\n",
    "model.prod()"
   ]
  },
  {
   "cell_type": "code",
   "execution_count": null,
   "id": "cc22c9c5-935e-4258-9cbf-15861ab18feb",
   "metadata": {},
   "outputs": [],
   "source": [
    "data = pd.read_csv('../Dataset/Test.csv').dropna()\n",
    "data.shape"
   ]
  },
  {
   "cell_type": "code",
   "execution_count": null,
   "id": "07be0574-8663-4c0b-af9e-0d27bafa9690",
   "metadata": {},
   "outputs": [],
   "source": [
    "# Make prediction on the test set\n",
    "main_cols = data.columns.difference(['Sample_ID', 'Label'])\n",
    "data_df = scaler.scale(data[main_cols])"
   ]
  },
  {
   "cell_type": "code",
   "execution_count": null,
   "id": "ab6ed293-897c-429e-9b28-5ff191d3950b",
   "metadata": {},
   "outputs": [],
   "source": [
    "predictions = model.predict(data_df)\n",
    "predictions.shape"
   ]
  },
  {
   "cell_type": "code",
   "execution_count": null,
   "id": "b5f7dcfc-a8d7-4cae-89e4-773759bfc32f",
   "metadata": {},
   "outputs": [],
   "source": [
    "predictions = predictions.ravel()\n",
    "predictions[predictions < 0.5] = 0\n",
    "predictions[predictions >= 0.5] = 1\n",
    "predictions"
   ]
  },
  {
   "cell_type": "code",
   "execution_count": null,
   "id": "8695d10a-3594-4676-a7ec-5dd8e32b3400",
   "metadata": {},
   "outputs": [],
   "source": [
    "# Create a submission file\n",
    "sub_file = pd.DataFrame({'Sample_ID': data.Sample_ID, 'Label': predictions})\n",
    "\n",
    "# Check the distribution of your predictions\n",
    "sns.countplot(x = sub_file.Label)\n",
    "plt.title('Predicted Variable Distribution');"
   ]
  },
  {
   "cell_type": "code",
   "execution_count": null,
   "id": "1e959ceb-9fbe-4f92-97b6-18720ca27d05",
   "metadata": {},
   "outputs": [],
   "source": []
  }
 ],
 "metadata": {
  "kernelspec": {
   "display_name": "Python 3",
   "language": "python",
   "name": "python3"
  },
  "language_info": {
   "codemirror_mode": {
    "name": "ipython",
    "version": 3
   },
   "file_extension": ".py",
   "mimetype": "text/x-python",
   "name": "python",
   "nbconvert_exporter": "python",
   "pygments_lexer": "ipython3",
   "version": "3.8.8"
  }
 },
 "nbformat": 4,
 "nbformat_minor": 5
}
